{
 "cells": [
  {
   "cell_type": "code",
   "execution_count": 2,
   "metadata": {
    "tags": []
   },
   "outputs": [],
   "source": [
    "import pandas as pd\n",
    "import numpy as np\n",
    "# from IPython.display import display_markdown\n",
    "from datetime import datetime, date\n",
    "import warnings\n",
    "warnings.filterwarnings('ignore')"
   ]
  },
  {
   "cell_type": "code",
   "execution_count": 19,
   "metadata": {
    "tags": []
   },
   "outputs": [],
   "source": [
    "df_genius = pd.read_csv('EventList.csv', delimiter=',' )\n",
    "df_radar = pd.read_csv('Live-Calendar2.csv', delimiter=';', encoding='cp1251')\n",
    "df_raning = pd.read_excel('rf.xls')\n",
    "# df_rts = pd.read_excel('RTS.xls')"
   ]
  },
  {
   "cell_type": "code",
   "execution_count": 20,
   "metadata": {
    "tags": []
   },
   "outputs": [
    {
     "name": "stdout",
     "output_type": "stream",
     "text": [
      "df_genius.shape=(299, 7)\n",
      "df_radar.shape=(1838, 14)\n",
      "df_raning.shape=(133, 13)\n"
     ]
    }
   ],
   "source": [
    "print(f'{df_genius.shape=}')\n",
    "print(f'{df_radar.shape=}')\n",
    "print(f'{df_raning.shape=}')\n",
    "# print(f'{df_rts.shape=}')"
   ]
  },
  {
   "cell_type": "code",
   "execution_count": 21,
   "metadata": {
    "tags": []
   },
   "outputs": [],
   "source": [
    "def age_u_xx(df_, u_xx):\n",
    "        df_.loc[\n",
    "            (df_['com1'].str.contains(u_xx) == True)\n",
    "            , 'liga'] = u_xx\n",
    "        df_.loc[\n",
    "            (df_['com1'].str.contains(u_xx) == True)\n",
    "            , 'com1'] = df_['com1'].str.split(u_xx).str[0]\n",
    "\n",
    "        df_.loc[\n",
    "            (df_['com2'].str.contains(u_xx) == True)\n",
    "            , 'com2'] = df_['com2'].str.split(u_xx).str[0]\n",
    "        return df_"
   ]
  },
  {
   "cell_type": "code",
   "execution_count": 22,
   "metadata": {
    "tags": []
   },
   "outputs": [],
   "source": [
    " def woman_(df_):\n",
    "        df_.loc[\n",
    "            (df_['com1'].str.contains('women') == True)\n",
    "            , 'liga'] = df_['liga'] + '-' + 'women'\n",
    "        df_.loc[\n",
    "            (df_['com1'].str.contains('women') == True)\n",
    "            , 'com1'] = df_['com1'].str.replace('women', '')\n",
    "\n",
    "        df_.loc[\n",
    "            (df_['com2'].str.contains('women') == True)\n",
    "            , 'com2'] = df_['com2'].str.replace('women', '')\n",
    "        return df_"
   ]
  },
  {
   "cell_type": "markdown",
   "metadata": {},
   "source": [
    " <div class=\"alert alert-block alert-info\"><font size=3>\n",
    "    <b>готовлю генус"
   ]
  },
  {
   "cell_type": "code",
   "execution_count": 23,
   "metadata": {
    "tags": []
   },
   "outputs": [],
   "source": [
    " df_genius['liga'] = ''"
   ]
  },
  {
   "cell_type": "code",
   "execution_count": 24,
   "metadata": {
    "tags": []
   },
   "outputs": [],
   "source": [
    "  df_genius = df_genius[['Competition',\n",
    "                           # 'EventId',\n",
    "                           'Event', 'Start (UTC+3)', 'Feed',\n",
    "                           # 'Booking Status',\n",
    "                           'liga'\n",
    "                           ]]"
   ]
  },
  {
   "cell_type": "code",
   "execution_count": 25,
   "metadata": {
    "tags": []
   },
   "outputs": [],
   "source": [
    "df_genius.rename(columns={'Feed': '_genius'}, inplace=True)\n"
   ]
  },
  {
   "cell_type": "code",
   "execution_count": 26,
   "metadata": {
    "tags": []
   },
   "outputs": [],
   "source": [
    " df_genius = df_genius[~df_genius['Competition'].str.contains('\\[Test]')]"
   ]
  },
  {
   "cell_type": "code",
   "execution_count": 27,
   "metadata": {
    "tags": []
   },
   "outputs": [],
   "source": [
    "df_genius['com1'] = df_genius['Event'].str.lower().str.split(' v ').str[0]\n",
    "df_genius['com2'] = df_genius['Event'].str.lower().str.split(' v ').str[1]"
   ]
  },
  {
   "cell_type": "code",
   "execution_count": 28,
   "metadata": {
    "tags": []
   },
   "outputs": [],
   "source": [
    "# ------------------------------------------- liga\n",
    "df_genius = age_u_xx(df_genius, 'u18')\n",
    "df_genius = age_u_xx(df_genius, 'u19')\n",
    "df_genius = age_u_xx(df_genius, 'u20')\n",
    "df_genius = age_u_xx(df_genius, 'u21')"
   ]
  },
  {
   "cell_type": "code",
   "execution_count": 29,
   "metadata": {
    "tags": []
   },
   "outputs": [],
   "source": [
    "# -------------------------------- woman\n",
    "df_genius = woman_(df_genius)"
   ]
  },
  {
   "cell_type": "code",
   "execution_count": 30,
   "metadata": {
    "tags": []
   },
   "outputs": [
    {
     "name": "stdout",
     "output_type": "stream",
     "text": [
      "27    2024-09-04\n",
      "28    2024-09-04\n",
      "29    2024-09-04\n",
      "30    2024-09-04\n",
      "31    2024-09-04\n",
      "         ...    \n",
      "294   2024-09-05\n",
      "295   2024-09-05\n",
      "296   2024-09-05\n",
      "297   2024-09-05\n",
      "298   2024-09-05\n",
      "Name: Start (UTC+3), Length: 272, dtype: datetime64[ns]\n"
     ]
    }
   ],
   "source": [
    "df_genius['Start (UTC+3)'] = pd.to_datetime(df_genius['Start (UTC+3)'], dayfirst=False, errors='coerce').dt.normalize()\n",
    "print(df_genius['Start (UTC+3)'])"
   ]
  },
  {
   "cell_type": "code",
   "execution_count": 31,
   "metadata": {},
   "outputs": [],
   "source": [
    "# ----------------------------- (   ) ------ ..\n",
    "df_genius['com1'] = df_genius['com1'].str.replace('(', '').str.replace(')', '')\n",
    "df_genius['com2'] = df_genius['com2'].str.replace('(', '').str.replace(')', '')\n",
    "\n",
    "df_genius['com1'] = df_genius['com1'].str.replace('.', '')\n",
    "df_genius['com2'] = df_genius['com2'].str.replace('.', '')"
   ]
  },
  {
   "cell_type": "code",
   "execution_count": 32,
   "metadata": {},
   "outputs": [],
   "source": [
    "df_genius['com1'] = df_genius['com1'].str.replace('é', 'e')\n",
    "df_genius['com2'] = df_genius['com2'].str.replace('é', 'e')\n",
    "\n",
    "df_genius['com1'] = df_genius['com1'].str.replace(' de ', '')\n",
    "df_genius['com2'] = df_genius['com2'].str.replace(' de ', '')"
   ]
  },
  {
   "cell_type": "code",
   "execution_count": 33,
   "metadata": {
    "tags": []
   },
   "outputs": [],
   "source": [
    "df_genius['key'] = df_genius['Start (UTC+3)'].astype(str) + '-' + df_genius['com1'] + '-' + df_genius[\n",
    "    'com2'] + '-' + df_genius['liga']\n",
    "df_genius['key'] = df_genius['key'].str.replace(' ', '')\n",
    "df_genius['key'] = df_genius['key'].str.replace('--', '-')"
   ]
  },
  {
   "cell_type": "markdown",
   "metadata": {},
   "source": [
    "<div class=\"alert alert-block alert-info\"><font size=3>\n",
    "<b>готовлю df_raning"
   ]
  },
  {
   "cell_type": "code",
   "execution_count": 35,
   "metadata": {
    "tags": []
   },
   "outputs": [],
   "source": [
    "df_raning['liga'] = ''"
   ]
  },
  {
   "cell_type": "code",
   "execution_count": 36,
   "metadata": {
    "tags": []
   },
   "outputs": [],
   "source": [
    "df_raning.rename(columns={'Coverage': '_raning'}, inplace=True)"
   ]
  },
  {
   "cell_type": "code",
   "execution_count": 37,
   "metadata": {
    "tags": []
   },
   "outputs": [],
   "source": [
    "df_raning['com1'] = df_raning['Competitor 1'].str.lower()\n",
    "df_raning['com2'] = df_raning['Competitor 2'].str.lower()"
   ]
  },
  {
   "cell_type": "code",
   "execution_count": 38,
   "metadata": {
    "tags": []
   },
   "outputs": [],
   "source": [
    "df_raning = df_raning[[\n",
    "        # 'Country',\n",
    "        'Competition',\n",
    "        # 'Venue', 'Neutral Venue',\n",
    "        'Team Advantage',\n",
    "        'Game Start Time', 'com1', 'com2',\n",
    "        '_raning',\n",
    "        # 'PlayState', 'Competitor ID 1', 'Competitor ID 2'\n",
    "        'liga'\n",
    "    ]]"
   ]
  },
  {
   "cell_type": "code",
   "execution_count": 39,
   "metadata": {
    "tags": []
   },
   "outputs": [],
   "source": [
    "df_raning = age_u_xx(df_raning, 'u18')\n",
    "df_raning = age_u_xx(df_raning, 'u19')\n",
    "df_raning = age_u_xx(df_raning, 'u20')\n",
    "df_raning = age_u_xx(df_raning, 'u21')"
   ]
  },
  {
   "cell_type": "code",
   "execution_count": 40,
   "metadata": {
    "tags": []
   },
   "outputs": [],
   "source": [
    "# -------------------------------- woman\n",
    "df_raning = woman_(df_raning)"
   ]
  },
  {
   "cell_type": "code",
   "execution_count": 41,
   "metadata": {
    "tags": []
   },
   "outputs": [],
   "source": [
    "df_raning['Game Start Time'] = pd.to_datetime(df_raning['Game Start Time'], dayfirst=True,\n",
    "                                                  errors='coerce').dt.normalize()"
   ]
  },
  {
   "cell_type": "code",
   "execution_count": 42,
   "metadata": {
    "tags": []
   },
   "outputs": [],
   "source": [
    "# ----------------------------- (   ) ------ ..\n",
    "df_raning['com1'] = df_raning['com1'].str.replace('(', '').str.replace(')', '')\n",
    "df_raning['com2'] = df_raning['com2'].str.replace('(', '').str.replace(')', '')\n",
    "\n",
    "df_raning['com1'] = df_raning['com1'].str.replace('.', '')\n",
    "df_raning['com2'] = df_raning['com2'].str.replace('.', '')"
   ]
  },
  {
   "cell_type": "code",
   "execution_count": 43,
   "metadata": {
    "tags": []
   },
   "outputs": [],
   "source": [
    "df_raning['key'] = df_raning['Game Start Time'].astype(str) + '-' + df_raning['com1'] + '-' + df_raning[\n",
    "    'com2'] + '-' + df_raning['liga']\n",
    "df_raning['key'] = df_raning['key'].str.replace(' ', '')\n",
    "df_raning['key'] = df_raning['key'].str.replace('--', '-')"
   ]
  },
  {
   "cell_type": "markdown",
   "metadata": {},
   "source": [
    "<div class=\"alert alert-block alert-info\"><font size=3>\n",
    "    <b>готовлю df_radar"
   ]
  },
  {
   "cell_type": "code",
   "execution_count": 46,
   "metadata": {
    "tags": []
   },
   "outputs": [],
   "source": [
    "def liga_radar(df_, u_xx):\n",
    "        df_['Tournament'] = df_['Tournament'].str.lower()\n",
    "        df_.loc[\n",
    "            (df_['Tournament'].str.contains(u_xx) == True)\n",
    "            , 'liga'] = u_xx\n",
    "\n",
    "        return df_"
   ]
  },
  {
   "cell_type": "code",
   "execution_count": 47,
   "metadata": {
    "tags": []
   },
   "outputs": [],
   "source": [
    "def liga_woman(df_):\n",
    "        df_['Tournament'] = df_['Tournament'].str.lower()\n",
    "        df_.loc[\n",
    "            (df_['Tournament'].str.contains('women') == True)\n",
    "            , 'liga'] = df_['liga'] + '-' + 'women'\n",
    "\n",
    "        return df_"
   ]
  },
  {
   "cell_type": "code",
   "execution_count": 48,
   "metadata": {
    "tags": []
   },
   "outputs": [],
   "source": [
    "df_radar['liga'] = ''"
   ]
  },
  {
   "cell_type": "code",
   "execution_count": 49,
   "metadata": {
    "tags": []
   },
   "outputs": [],
   "source": [
    "df_radar.rename(columns={'Covered from': '_radar'}, inplace=True)"
   ]
  },
  {
   "cell_type": "code",
   "execution_count": 50,
   "metadata": {
    "tags": []
   },
   "outputs": [],
   "source": [
    "df_radar = df_radar[[\n",
    "        # 'EventId', 'Day',\n",
    "        'Date',\n",
    "        # 'Time', 'Sport',\n",
    "        'Category', 'Tournament',\n",
    "        'Event',\n",
    "        # 'Court',\n",
    "        # 'Stream',\n",
    "        '_radar',\n",
    "        # 'Covered with LO',\n",
    "        #    'Covered with LScout',\n",
    "        'liga'\n",
    "    ]]"
   ]
  },
  {
   "cell_type": "code",
   "execution_count": 51,
   "metadata": {
    "tags": []
   },
   "outputs": [],
   "source": [
    "df_radar['com1'] = df_radar['Event'].str.lower().str.split(' vs. ').str[0]\n",
    "df_radar['com2'] = df_radar['Event'].str.lower().str.split(' vs. ').str[1]"
   ]
  },
  {
   "cell_type": "code",
   "execution_count": 52,
   "metadata": {
    "tags": []
   },
   "outputs": [],
   "source": [
    "df_radar = liga_radar(df_radar, 'u18')\n",
    "df_radar = liga_radar(df_radar, 'u19')\n",
    "df_radar = liga_radar(df_radar, 'u20')\n",
    "df_radar = liga_radar(df_radar, 'u21')\n",
    "df_radar = liga_woman(df_radar)"
   ]
  },
  {
   "cell_type": "code",
   "execution_count": 53,
   "metadata": {
    "tags": []
   },
   "outputs": [],
   "source": [
    "df_radar['Date'] = pd.to_datetime(df_radar['Date'], dayfirst=True, errors='coerce').dt.normalize()"
   ]
  },
  {
   "cell_type": "code",
   "execution_count": 54,
   "metadata": {
    "tags": []
   },
   "outputs": [],
   "source": [
    "df_radar['key'] = df_radar['Date'].astype(str) + '-' + df_radar['com1'] + '-' + df_radar['com2'] + '-' + df_radar[\n",
    "    'liga']\n",
    "df_radar['key'] = df_radar['key'].str.replace(' ', '')\n",
    "df_radar['key'] = df_radar['key'].str.replace('--', '-')"
   ]
  },
  {
   "cell_type": "markdown",
   "metadata": {},
   "source": [
    "<div class=\"alert alert-block alert-info\"><font size=3>\n",
    "    <b>джойним к генус"
   ]
  },
  {
   "cell_type": "code",
   "execution_count": 55,
   "metadata": {
    "tags": []
   },
   "outputs": [],
   "source": [
    "df_genius_m = df_genius.merge(df_raning[['key', 'com1', 'com2', 'liga', '_raning']], on='key',\n",
    "                              suffixes=['_gen', '_ran'], how='left').merge(\n",
    "df_radar[['key', 'com1', 'com2', 'liga', '_radar']], on='key', suffixes=['_rad'], how='left')"
   ]
  },
  {
   "cell_type": "code",
   "execution_count": 56,
   "metadata": {
    "tags": []
   },
   "outputs": [],
   "source": [
    "df_genius_m = df_genius_m[[\n",
    "        'com1_gen', 'com2_gen',\n",
    "        # 'Event',\n",
    "        '_genius',\n",
    "        '_raning',\n",
    "        '_radar', 'key',\n",
    "        'liga_gen',\n",
    "    ]]"
   ]
  },
  {
   "cell_type": "code",
   "execution_count": 57,
   "metadata": {
    "tags": []
   },
   "outputs": [],
   "source": [
    "df_genius_m.rename(columns=({'com1_gen': 'com1',\n",
    "                                 'com2_gen': 'com2',\n",
    "                                 'liga_gen': 'liga',\n",
    "                                 }), inplace=True)"
   ]
  },
  {
   "cell_type": "code",
   "execution_count": 58,
   "metadata": {
    "tags": []
   },
   "outputs": [],
   "source": [
    "df_genius_m['источник'] = 'geniu'"
   ]
  },
  {
   "cell_type": "markdown",
   "metadata": {},
   "source": [
    "<div class=\"alert alert-block alert-info\"><font size=3>\n",
    "    <b>джойним к raning"
   ]
  },
  {
   "cell_type": "code",
   "execution_count": 59,
   "metadata": {
    "tags": []
   },
   "outputs": [],
   "source": [
    "df_raning_m = df_raning.merge(df_genius[['key', 'com1', 'com2', 'liga', '_genius']], on='key',\n",
    "                              suffixes=['_ran', '_gen'], how='left').merge(\n",
    "    df_radar[['key', 'com1', 'com2', 'liga', '_radar']], on='key', suffixes=['_rad'], how='left')"
   ]
  },
  {
   "cell_type": "code",
   "execution_count": 60,
   "metadata": {
    "tags": []
   },
   "outputs": [],
   "source": [
    "df_raning_m = df_raning_m[[\n",
    "    'com1_ran',\n",
    "    'com2_ran',\n",
    "    # 'Competition',\n",
    "    '_genius', '_raning', '_radar', 'key',\n",
    "    # 'liga',\n",
    "    'liga_ran',\n",
    "]]"
   ]
  },
  {
   "cell_type": "code",
   "execution_count": 61,
   "metadata": {
    "tags": []
   },
   "outputs": [],
   "source": [
    "df_raning_m.rename(columns=({'com1_ran': 'com1',\n",
    "                             'com2_ran': 'com2',\n",
    "                             'liga_ran': 'liga'}), inplace=True)"
   ]
  },
  {
   "cell_type": "code",
   "execution_count": 62,
   "metadata": {
    "tags": []
   },
   "outputs": [],
   "source": [
    "df_raning_m['источник'] = 'raning'"
   ]
  },
  {
   "cell_type": "markdown",
   "metadata": {},
   "source": [
    "  <div class=\"alert alert-block alert-info\"><font size=3>\n",
    "    <b>джойним к df_radar"
   ]
  },
  {
   "cell_type": "code",
   "execution_count": 63,
   "metadata": {
    "tags": []
   },
   "outputs": [],
   "source": [
    "df_radar_m = df_radar.merge(df_genius[['key', 'com1', 'com2', 'liga', '_genius']], on='key',\n",
    "                            suffixes=['_rad', '_gen'], how='left').merge(\n",
    "df_raning[['key', 'com1', 'com2', 'liga', '_raning']], on='key', suffixes=['_ran'], how='left')"
   ]
  },
  {
   "cell_type": "code",
   "execution_count": 64,
   "metadata": {
    "tags": []
   },
   "outputs": [],
   "source": [
    "df_radar_m = df_radar_m[[\n",
    "    'com1_rad', 'com2_rad',\n",
    "    # 'Tournament',\n",
    "    # 'Category',\n",
    "    # 'Event',\n",
    "    '_genius', '_raning', '_radar',\n",
    "    'key', 'liga_rad',\n",
    "\n",
    "]]"
   ]
  },
  {
   "cell_type": "code",
   "execution_count": 65,
   "metadata": {
    "tags": []
   },
   "outputs": [],
   "source": [
    "df_radar_m.rename(columns=({'com1_rad': 'com1',\n",
    "                            'com2_rad': 'com2',\n",
    "                            'liga_rad': 'liga',\n",
    "                            }), inplace=True)"
   ]
  },
  {
   "cell_type": "code",
   "execution_count": 66,
   "metadata": {
    "tags": []
   },
   "outputs": [],
   "source": [
    "df_radar_m['источник'] = 'radar'"
   ]
  },
  {
   "cell_type": "markdown",
   "metadata": {},
   "source": [
    " <div class=\"alert alert-block alert-info\"><font size=3>\n",
    "    <b>concat"
   ]
  },
  {
   "cell_type": "code",
   "execution_count": 67,
   "metadata": {
    "tags": []
   },
   "outputs": [
    {
     "data": {
      "text/html": [
       "<div>\n",
       "<style scoped>\n",
       "    .dataframe tbody tr th:only-of-type {\n",
       "        vertical-align: middle;\n",
       "    }\n",
       "\n",
       "    .dataframe tbody tr th {\n",
       "        vertical-align: top;\n",
       "    }\n",
       "\n",
       "    .dataframe thead th {\n",
       "        text-align: right;\n",
       "    }\n",
       "</style>\n",
       "<table border=\"1\" class=\"dataframe\">\n",
       "  <thead>\n",
       "    <tr style=\"text-align: right;\">\n",
       "      <th></th>\n",
       "      <th>com1</th>\n",
       "      <th>com2</th>\n",
       "      <th>_genius</th>\n",
       "      <th>_raning</th>\n",
       "      <th>_radar</th>\n",
       "      <th>key</th>\n",
       "      <th>liga</th>\n",
       "      <th>источник</th>\n",
       "    </tr>\n",
       "  </thead>\n",
       "  <tbody>\n",
       "    <tr>\n",
       "      <th>0</th>\n",
       "      <td>deportivo santo domingo</td>\n",
       "      <td>el nacional</td>\n",
       "      <td>VEN</td>\n",
       "      <td>NaN</td>\n",
       "      <td>NaN</td>\n",
       "      <td>2024-09-04-deportivosantodomingo-elnacional-</td>\n",
       "      <td></td>\n",
       "      <td>geniu</td>\n",
       "    </tr>\n",
       "    <tr>\n",
       "      <th>1</th>\n",
       "      <td>leones del norte</td>\n",
       "      <td>independiente juniors</td>\n",
       "      <td>VEN</td>\n",
       "      <td>NaN</td>\n",
       "      <td>NaN</td>\n",
       "      <td>2024-09-04-leonesdelnorte-independientejuniors-</td>\n",
       "      <td></td>\n",
       "      <td>geniu</td>\n",
       "    </tr>\n",
       "    <tr>\n",
       "      <th>2</th>\n",
       "      <td>guarani sp</td>\n",
       "      <td>coritiba</td>\n",
       "      <td>VEN+</td>\n",
       "      <td>NaN</td>\n",
       "      <td>NaN</td>\n",
       "      <td>2024-09-04-guaranisp-coritiba-</td>\n",
       "      <td></td>\n",
       "      <td>geniu</td>\n",
       "    </tr>\n",
       "    <tr>\n",
       "      <th>3</th>\n",
       "      <td>zamora fc</td>\n",
       "      <td>carabobo fc</td>\n",
       "      <td>VEN</td>\n",
       "      <td>NaN</td>\n",
       "      <td>NaN</td>\n",
       "      <td>2024-09-04-zamorafc-carabobofc-</td>\n",
       "      <td></td>\n",
       "      <td>geniu</td>\n",
       "    </tr>\n",
       "    <tr>\n",
       "      <th>4</th>\n",
       "      <td>atlas</td>\n",
       "      <td>fc juarez</td>\n",
       "      <td>VEN</td>\n",
       "      <td>NaN</td>\n",
       "      <td>NaN</td>\n",
       "      <td>2024-09-04-atlas-fcjuarez-women</td>\n",
       "      <td>-women</td>\n",
       "      <td>geniu</td>\n",
       "    </tr>\n",
       "    <tr>\n",
       "      <th>...</th>\n",
       "      <td>...</td>\n",
       "      <td>...</td>\n",
       "      <td>...</td>\n",
       "      <td>...</td>\n",
       "      <td>...</td>\n",
       "      <td>...</td>\n",
       "      <td>...</td>\n",
       "      <td>...</td>\n",
       "    </tr>\n",
       "    <tr>\n",
       "      <th>1833</th>\n",
       "      <td>paris saint germain (alpha)</td>\n",
       "      <td>real madrid (janis)</td>\n",
       "      <td>NaN</td>\n",
       "      <td>NaN</td>\n",
       "      <td>tv</td>\n",
       "      <td>2024-09-03-parissaintgermain(alpha)-realmadrid...</td>\n",
       "      <td></td>\n",
       "      <td>radar</td>\n",
       "    </tr>\n",
       "    <tr>\n",
       "      <th>1834</th>\n",
       "      <td>wisniewski, karol</td>\n",
       "      <td>david, petr</td>\n",
       "      <td>NaN</td>\n",
       "      <td>NaN</td>\n",
       "      <td>venue</td>\n",
       "      <td>2024-09-03-wisniewski,karol-david,petr-</td>\n",
       "      <td></td>\n",
       "      <td>radar</td>\n",
       "    </tr>\n",
       "    <tr>\n",
       "      <th>1835</th>\n",
       "      <td>zochniak, jakub</td>\n",
       "      <td>misiak, mateusz</td>\n",
       "      <td>NaN</td>\n",
       "      <td>NaN</td>\n",
       "      <td>venue</td>\n",
       "      <td>2024-09-03-zochniak,jakub-misiak,mateusz-</td>\n",
       "      <td></td>\n",
       "      <td>radar</td>\n",
       "    </tr>\n",
       "    <tr>\n",
       "      <th>1836</th>\n",
       "      <td>koczyba, mariusz</td>\n",
       "      <td>kowalczyk, marcin</td>\n",
       "      <td>NaN</td>\n",
       "      <td>NaN</td>\n",
       "      <td>venue</td>\n",
       "      <td>2024-09-03-koczyba,mariusz-kowalczyk,marcin-</td>\n",
       "      <td></td>\n",
       "      <td>radar</td>\n",
       "    </tr>\n",
       "    <tr>\n",
       "      <th>1837</th>\n",
       "      <td>lamer, maciej</td>\n",
       "      <td>kubiak, artur</td>\n",
       "      <td>NaN</td>\n",
       "      <td>NaN</td>\n",
       "      <td>venue</td>\n",
       "      <td>2024-09-03-lamer,maciej-kubiak,artur-</td>\n",
       "      <td></td>\n",
       "      <td>radar</td>\n",
       "    </tr>\n",
       "  </tbody>\n",
       "</table>\n",
       "<p>2243 rows × 8 columns</p>\n",
       "</div>"
      ],
      "text/plain": [
       "                             com1                   com2 _genius _raning  \\\n",
       "0         deportivo santo domingo            el nacional     VEN     NaN   \n",
       "1                leones del norte  independiente juniors     VEN     NaN   \n",
       "2                      guarani sp               coritiba    VEN+     NaN   \n",
       "3                       zamora fc            carabobo fc     VEN     NaN   \n",
       "4                          atlas              fc juarez      VEN     NaN   \n",
       "...                           ...                    ...     ...     ...   \n",
       "1833  paris saint germain (alpha)    real madrid (janis)     NaN     NaN   \n",
       "1834            wisniewski, karol            david, petr     NaN     NaN   \n",
       "1835              zochniak, jakub        misiak, mateusz     NaN     NaN   \n",
       "1836             koczyba, mariusz      kowalczyk, marcin     NaN     NaN   \n",
       "1837                lamer, maciej          kubiak, artur     NaN     NaN   \n",
       "\n",
       "     _radar                                                key    liga  \\\n",
       "0       NaN       2024-09-04-deportivosantodomingo-elnacional-           \n",
       "1       NaN    2024-09-04-leonesdelnorte-independientejuniors-           \n",
       "2       NaN                     2024-09-04-guaranisp-coritiba-           \n",
       "3       NaN                    2024-09-04-zamorafc-carabobofc-           \n",
       "4       NaN                    2024-09-04-atlas-fcjuarez-women  -women   \n",
       "...     ...                                                ...     ...   \n",
       "1833     tv  2024-09-03-parissaintgermain(alpha)-realmadrid...           \n",
       "1834  venue            2024-09-03-wisniewski,karol-david,petr-           \n",
       "1835  venue          2024-09-03-zochniak,jakub-misiak,mateusz-           \n",
       "1836  venue       2024-09-03-koczyba,mariusz-kowalczyk,marcin-           \n",
       "1837  venue              2024-09-03-lamer,maciej-kubiak,artur-           \n",
       "\n",
       "     источник  \n",
       "0       geniu  \n",
       "1       geniu  \n",
       "2       geniu  \n",
       "3       geniu  \n",
       "4       geniu  \n",
       "...       ...  \n",
       "1833    radar  \n",
       "1834    radar  \n",
       "1835    radar  \n",
       "1836    radar  \n",
       "1837    radar  \n",
       "\n",
       "[2243 rows x 8 columns]"
      ]
     },
     "execution_count": 67,
     "metadata": {},
     "output_type": "execute_result"
    }
   ],
   "source": [
    "df_result = pd.concat([df_genius_m, df_raning_m, df_radar_m])\n",
    "df_result"
   ]
  },
  {
   "cell_type": "code",
   "execution_count": 68,
   "metadata": {
    "tags": []
   },
   "outputs": [],
   "source": [
    "# ---------------------------------- чичтсим\n",
    "df_result = df_result[~df_result['key'].isna()]\n",
    "\n",
    "\n",
    "df = df_result[(df_result['_genius'].isin(['VEN+', 'VEN', 'TV+', 'TV', ]))\n",
    "               | (df_result['_raning'].isin(['TV', 'LIVE', 'TV Stadium Feed ']))\n",
    "               | (df_result['_radar'].isin(['tv', 'venue', ]))]\n",
    "\n",
    "df_drop = df.drop_duplicates('key')"
   ]
  },
  {
   "cell_type": "code",
   "execution_count": 69,
   "metadata": {
    "tags": []
   },
   "outputs": [],
   "source": [
    "df_drop = df_drop[[\n",
    "    'com1', 'com2', '_genius', '_raning', '_radar', 'key',\n",
    "    'источник', 'liga',\n",
    "]]"
   ]
  },
  {
   "cell_type": "code",
   "execution_count": 70,
   "metadata": {
    "tags": []
   },
   "outputs": [],
   "source": [
    "df_drop_2x = df_drop[\n",
    "    (~df_drop['_genius'].isna() & ~df_drop['_raning'].isna())\n",
    "    | (~df_drop['_genius'].isna() & ~df_drop['_radar'].isna())\n",
    "    | (~df_drop['_raning'].isna() & ~df_drop['_radar'].isna())\n",
    "    | (~df_drop['_genius'].isna() & ~df_drop['_raning'].isna() & ~df_drop['_radar'].isna())\n",
    "    ]"
   ]
  },
  {
   "cell_type": "code",
   "execution_count": null,
   "metadata": {},
   "outputs": [],
   "source": []
  },
  {
   "cell_type": "code",
   "execution_count": 73,
   "metadata": {
    "tags": []
   },
   "outputs": [
    {
     "data": {
      "text/html": [
       "<div>\n",
       "<style scoped>\n",
       "    .dataframe tbody tr th:only-of-type {\n",
       "        vertical-align: middle;\n",
       "    }\n",
       "\n",
       "    .dataframe tbody tr th {\n",
       "        vertical-align: top;\n",
       "    }\n",
       "\n",
       "    .dataframe thead th {\n",
       "        text-align: right;\n",
       "    }\n",
       "</style>\n",
       "<table border=\"1\" class=\"dataframe\">\n",
       "  <thead>\n",
       "    <tr style=\"text-align: right;\">\n",
       "      <th></th>\n",
       "      <th>com1</th>\n",
       "      <th>com2</th>\n",
       "      <th>_genius</th>\n",
       "      <th>_raning</th>\n",
       "      <th>_radar</th>\n",
       "      <th>key</th>\n",
       "      <th>источник</th>\n",
       "      <th>liga</th>\n",
       "    </tr>\n",
       "  </thead>\n",
       "  <tbody>\n",
       "    <tr>\n",
       "      <th>1503</th>\n",
       "      <td>mjoendalen 2</td>\n",
       "      <td>aaskollen</td>\n",
       "      <td></td>\n",
       "      <td></td>\n",
       "      <td>venue</td>\n",
       "      <td>2024-09-03-mjoendalen2-aaskollen-</td>\n",
       "      <td>radar</td>\n",
       "      <td></td>\n",
       "    </tr>\n",
       "    <tr>\n",
       "      <th>537</th>\n",
       "      <td>thornton, robert</td>\n",
       "      <td>burnett, richie</td>\n",
       "      <td></td>\n",
       "      <td></td>\n",
       "      <td>venue</td>\n",
       "      <td>2024-09-03-thornton,robert-burnett,richie-</td>\n",
       "      <td>radar</td>\n",
       "      <td></td>\n",
       "    </tr>\n",
       "    <tr>\n",
       "      <th>1639</th>\n",
       "      <td>ss lazio (mateo)</td>\n",
       "      <td>juventus (haidan)</td>\n",
       "      <td></td>\n",
       "      <td></td>\n",
       "      <td>tv</td>\n",
       "      <td>2024-09-03-sslazio(mateo)-juventus(haidan)-</td>\n",
       "      <td>radar</td>\n",
       "      <td></td>\n",
       "    </tr>\n",
       "    <tr>\n",
       "      <th>568</th>\n",
       "      <td>orix buffaloes</td>\n",
       "      <td>saitama seibu lions</td>\n",
       "      <td></td>\n",
       "      <td></td>\n",
       "      <td>tv</td>\n",
       "      <td>2024-09-03-orixbuffaloes-saitamaseibulions-</td>\n",
       "      <td>radar</td>\n",
       "      <td></td>\n",
       "    </tr>\n",
       "    <tr>\n",
       "      <th>1720</th>\n",
       "      <td>hladik, ivo</td>\n",
       "      <td>vilhelm, pavel</td>\n",
       "      <td></td>\n",
       "      <td></td>\n",
       "      <td>venue</td>\n",
       "      <td>2024-09-03-hladik,ivo-vilhelm,pavel-</td>\n",
       "      <td>radar</td>\n",
       "      <td></td>\n",
       "    </tr>\n",
       "    <tr>\n",
       "      <th>1625</th>\n",
       "      <td>darlington fc</td>\n",
       "      <td>alfreton town fc</td>\n",
       "      <td></td>\n",
       "      <td></td>\n",
       "      <td>venue</td>\n",
       "      <td>2024-09-03-darlingtonfc-alfretontownfc-</td>\n",
       "      <td>radar</td>\n",
       "      <td></td>\n",
       "    </tr>\n",
       "    <tr>\n",
       "      <th>1740</th>\n",
       "      <td>dohnal, jaroslav</td>\n",
       "      <td>lafek, dominik</td>\n",
       "      <td></td>\n",
       "      <td></td>\n",
       "      <td>venue</td>\n",
       "      <td>2024-09-03-dohnal,jaroslav-lafek,dominik-</td>\n",
       "      <td>radar</td>\n",
       "      <td></td>\n",
       "    </tr>\n",
       "    <tr>\n",
       "      <th>1291</th>\n",
       "      <td>cermak, lubos</td>\n",
       "      <td>rolik, jakub</td>\n",
       "      <td></td>\n",
       "      <td></td>\n",
       "      <td>venue</td>\n",
       "      <td>2024-09-03-cermak,lubos-rolik,jakub-</td>\n",
       "      <td>radar</td>\n",
       "      <td></td>\n",
       "    </tr>\n",
       "    <tr>\n",
       "      <th>1542</th>\n",
       "      <td>scigany, dariusz</td>\n",
       "      <td>lamer, maciej</td>\n",
       "      <td></td>\n",
       "      <td></td>\n",
       "      <td>venue</td>\n",
       "      <td>2024-09-03-scigany,dariusz-lamer,maciej-</td>\n",
       "      <td>radar</td>\n",
       "      <td></td>\n",
       "    </tr>\n",
       "    <tr>\n",
       "      <th>915</th>\n",
       "      <td>wozniak, jakub</td>\n",
       "      <td>radlo, szymon</td>\n",
       "      <td></td>\n",
       "      <td></td>\n",
       "      <td>venue</td>\n",
       "      <td>2024-09-03-wozniak,jakub-radlo,szymon-</td>\n",
       "      <td>radar</td>\n",
       "      <td></td>\n",
       "    </tr>\n",
       "    <tr>\n",
       "      <th>170</th>\n",
       "      <td>tus bw lohne</td>\n",
       "      <td>sv meppen</td>\n",
       "      <td></td>\n",
       "      <td>LIVE</td>\n",
       "      <td></td>\n",
       "      <td>2024-09-04-tusbwlohne-svmeppen-</td>\n",
       "      <td>geniu</td>\n",
       "      <td></td>\n",
       "    </tr>\n",
       "    <tr>\n",
       "      <th>869</th>\n",
       "      <td>lynn vision gaming</td>\n",
       "      <td>natus vincere</td>\n",
       "      <td></td>\n",
       "      <td></td>\n",
       "      <td>tv</td>\n",
       "      <td>2024-09-03-lynnvisiongaming-natusvincere-</td>\n",
       "      <td>radar</td>\n",
       "      <td></td>\n",
       "    </tr>\n",
       "    <tr>\n",
       "      <th>1065</th>\n",
       "      <td>permitta esports</td>\n",
       "      <td>team space</td>\n",
       "      <td></td>\n",
       "      <td></td>\n",
       "      <td>tv</td>\n",
       "      <td>2024-09-03-permittaesports-teamspace-</td>\n",
       "      <td>radar</td>\n",
       "      <td></td>\n",
       "    </tr>\n",
       "    <tr>\n",
       "      <th>696</th>\n",
       "      <td>cybershoke esports</td>\n",
       "      <td>revenant esports</td>\n",
       "      <td></td>\n",
       "      <td></td>\n",
       "      <td>tv</td>\n",
       "      <td>2024-09-03-cybershokeesports-revenantesports-</td>\n",
       "      <td>radar</td>\n",
       "      <td></td>\n",
       "    </tr>\n",
       "    <tr>\n",
       "      <th>1812</th>\n",
       "      <td>czerwinski, bartosz</td>\n",
       "      <td>kapik, krzysztof</td>\n",
       "      <td></td>\n",
       "      <td></td>\n",
       "      <td>venue</td>\n",
       "      <td>2024-09-03-czerwinski,bartosz-kapik,krzysztof-</td>\n",
       "      <td>radar</td>\n",
       "      <td></td>\n",
       "    </tr>\n",
       "    <tr>\n",
       "      <th>954</th>\n",
       "      <td>bayer 04 leverkusen (chemist)</td>\n",
       "      <td>arsenal fc (cantona)</td>\n",
       "      <td></td>\n",
       "      <td></td>\n",
       "      <td>tv</td>\n",
       "      <td>2024-09-03-bayer04leverkusen(chemist)-arsenalf...</td>\n",
       "      <td>radar</td>\n",
       "      <td></td>\n",
       "    </tr>\n",
       "    <tr>\n",
       "      <th>530</th>\n",
       "      <td>sl benfica (matrix)</td>\n",
       "      <td>rb leipzig (arthur)</td>\n",
       "      <td></td>\n",
       "      <td></td>\n",
       "      <td>tv</td>\n",
       "      <td>2024-09-03-slbenfica(matrix)-rbleipzig(arthur)-</td>\n",
       "      <td>radar</td>\n",
       "      <td></td>\n",
       "    </tr>\n",
       "    <tr>\n",
       "      <th>1296</th>\n",
       "      <td>tottenham hotspur fc  (noah)</td>\n",
       "      <td>liverpool fc (sebastian)</td>\n",
       "      <td></td>\n",
       "      <td></td>\n",
       "      <td>tv</td>\n",
       "      <td>2024-09-03-tottenhamhotspurfc(noah)-liverpoolf...</td>\n",
       "      <td>radar</td>\n",
       "      <td></td>\n",
       "    </tr>\n",
       "    <tr>\n",
       "      <th>1401</th>\n",
       "      <td>england (mateo)</td>\n",
       "      <td>portugal (janis)</td>\n",
       "      <td></td>\n",
       "      <td></td>\n",
       "      <td>tv</td>\n",
       "      <td>2024-09-03-england(mateo)-portugal(janis)-</td>\n",
       "      <td>radar</td>\n",
       "      <td></td>\n",
       "    </tr>\n",
       "    <tr>\n",
       "      <th>60</th>\n",
       "      <td>cocodrilos de caracas</td>\n",
       "      <td>gladiadores de anzoategui</td>\n",
       "      <td></td>\n",
       "      <td></td>\n",
       "      <td>venue</td>\n",
       "      <td>2024-09-03-cocodrilosdecaracas-gladiadoresdean...</td>\n",
       "      <td>radar</td>\n",
       "      <td></td>\n",
       "    </tr>\n",
       "  </tbody>\n",
       "</table>\n",
       "</div>"
      ],
      "text/plain": [
       "                               com1                       com2 _genius  \\\n",
       "1503                   mjoendalen 2                  aaskollen           \n",
       "537                thornton, robert            burnett, richie           \n",
       "1639               ss lazio (mateo)          juventus (haidan)           \n",
       "568                  orix buffaloes        saitama seibu lions           \n",
       "1720                    hladik, ivo             vilhelm, pavel           \n",
       "1625                  darlington fc           alfreton town fc           \n",
       "1740               dohnal, jaroslav             lafek, dominik           \n",
       "1291                  cermak, lubos               rolik, jakub           \n",
       "1542               scigany, dariusz              lamer, maciej           \n",
       "915                  wozniak, jakub              radlo, szymon           \n",
       "170                    tus bw lohne                  sv meppen           \n",
       "869              lynn vision gaming              natus vincere           \n",
       "1065               permitta esports                 team space           \n",
       "696              cybershoke esports           revenant esports           \n",
       "1812            czerwinski, bartosz           kapik, krzysztof           \n",
       "954   bayer 04 leverkusen (chemist)       arsenal fc (cantona)           \n",
       "530             sl benfica (matrix)        rb leipzig (arthur)           \n",
       "1296   tottenham hotspur fc  (noah)   liverpool fc (sebastian)           \n",
       "1401                england (mateo)           portugal (janis)           \n",
       "60            cocodrilos de caracas  gladiadores de anzoategui           \n",
       "\n",
       "     _raning _radar                                                key  \\\n",
       "1503          venue                  2024-09-03-mjoendalen2-aaskollen-   \n",
       "537           venue         2024-09-03-thornton,robert-burnett,richie-   \n",
       "1639             tv        2024-09-03-sslazio(mateo)-juventus(haidan)-   \n",
       "568              tv        2024-09-03-orixbuffaloes-saitamaseibulions-   \n",
       "1720          venue               2024-09-03-hladik,ivo-vilhelm,pavel-   \n",
       "1625          venue            2024-09-03-darlingtonfc-alfretontownfc-   \n",
       "1740          venue          2024-09-03-dohnal,jaroslav-lafek,dominik-   \n",
       "1291          venue               2024-09-03-cermak,lubos-rolik,jakub-   \n",
       "1542          venue           2024-09-03-scigany,dariusz-lamer,maciej-   \n",
       "915           venue             2024-09-03-wozniak,jakub-radlo,szymon-   \n",
       "170     LIVE                           2024-09-04-tusbwlohne-svmeppen-   \n",
       "869              tv          2024-09-03-lynnvisiongaming-natusvincere-   \n",
       "1065             tv              2024-09-03-permittaesports-teamspace-   \n",
       "696              tv      2024-09-03-cybershokeesports-revenantesports-   \n",
       "1812          venue     2024-09-03-czerwinski,bartosz-kapik,krzysztof-   \n",
       "954              tv  2024-09-03-bayer04leverkusen(chemist)-arsenalf...   \n",
       "530              tv    2024-09-03-slbenfica(matrix)-rbleipzig(arthur)-   \n",
       "1296             tv  2024-09-03-tottenhamhotspurfc(noah)-liverpoolf...   \n",
       "1401             tv         2024-09-03-england(mateo)-portugal(janis)-   \n",
       "60            venue  2024-09-03-cocodrilosdecaracas-gladiadoresdean...   \n",
       "\n",
       "     источник liga  \n",
       "1503    radar       \n",
       "537     radar       \n",
       "1639    radar       \n",
       "568     radar       \n",
       "1720    radar       \n",
       "1625    radar       \n",
       "1740    radar       \n",
       "1291    radar       \n",
       "1542    radar       \n",
       "915     radar       \n",
       "170     geniu       \n",
       "869     radar       \n",
       "1065    radar       \n",
       "696     radar       \n",
       "1812    radar       \n",
       "954     radar       \n",
       "530     radar       \n",
       "1296    radar       \n",
       "1401    radar       \n",
       "60      radar       "
      ]
     },
     "execution_count": 73,
     "metadata": {},
     "output_type": "execute_result"
    }
   ],
   "source": [
    "df_drop.fillna('').sample(20)"
   ]
  },
  {
   "cell_type": "code",
   "execution_count": null,
   "metadata": {},
   "outputs": [],
   "source": []
  },
  {
   "cell_type": "code",
   "execution_count": null,
   "metadata": {},
   "outputs": [],
   "source": []
  },
  {
   "cell_type": "code",
   "execution_count": null,
   "metadata": {},
   "outputs": [],
   "source": []
  },
  {
   "cell_type": "code",
   "execution_count": null,
   "metadata": {},
   "outputs": [],
   "source": []
  }
 ],
 "metadata": {
  "kernelspec": {
   "display_name": "Python 3 (ipykernel)",
   "language": "python",
   "name": "python3"
  },
  "language_info": {
   "codemirror_mode": {
    "name": "ipython",
    "version": 3
   },
   "file_extension": ".py",
   "mimetype": "text/x-python",
   "name": "python",
   "nbconvert_exporter": "python",
   "pygments_lexer": "ipython3",
   "version": "3.11.5"
  }
 },
 "nbformat": 4,
 "nbformat_minor": 4
}
